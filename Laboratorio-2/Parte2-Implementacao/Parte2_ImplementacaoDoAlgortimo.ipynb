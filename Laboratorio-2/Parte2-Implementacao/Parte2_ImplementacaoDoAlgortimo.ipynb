{
  "nbformat": 4,
  "nbformat_minor": 0,
  "metadata": {
    "colab": {
      "provenance": []
    },
    "kernelspec": {
      "name": "python3",
      "display_name": "Python 3"
    },
    "language_info": {
      "name": "python"
    }
  },
  "cells": [
    {
      "cell_type": "markdown",
      "source": [
        "## **Parte 2 - Laboratório de Redes de Computadores: Implementação e Análise do CRC**\n",
        "\n",
        "Nesta etapa, implementaremos as equações do CRC. O desafio consiste em simular a divisão polinomial utilizando operações bit a bit.\n",
        "\n",
        "### **Autor**\n",
        "- Filipe Magno Alves Paiva (122110518)"
      ],
      "metadata": {
        "id": "RfsyZPc0Xqjf"
      }
    },
    {
      "cell_type": "code",
      "execution_count": 13,
      "metadata": {
        "id": "O_Xeq_xUWz5G"
      },
      "outputs": [],
      "source": [
        "def xor_bits(a, b):\n",
        "    \"\"\"\n",
        "    Realiza a operação de XOR bit a bit entre duas strings binárias de mesmo comprimento.\n",
        "    \"\"\"\n",
        "    resultado = \"\"\n",
        "    for i in range(len(a)):\n",
        "        if a[i] == b[i]:\n",
        "            resultado += '0'\n",
        "        else:\n",
        "            resultado += '1'\n",
        "    return resultado\n",
        "\n",
        "def calcular_crc_manual(dados_bits: str, gerador_bits: str) -> str:\n",
        "    \"\"\"\n",
        "    Calcula o CRC para uma sequência de dados M(x) usando um gerador G(x).\n",
        "\n",
        "    Args:\n",
        "        dados_bits: A string binária representando o polinômio da mensagem, M(x).\n",
        "        gerador_bits: A string binária representando o polinômio gerador, G(x).\n",
        "\n",
        "    Returns:\n",
        "        A string binária de r bits representando o CRC.\n",
        "    \"\"\"\n",
        "    # 1. Obtenha o grau 'r' do gerador.\n",
        "    #    Lembre-se que um gerador de n bits representa um polinômio de grau n-1.\n",
        "    r = len(gerador_bits) - 1\n",
        "\n",
        "    # 2. Crie T(x)=  M(x) * 2^r, que é a mensagem com 'r' zeros anexados.\n",
        "    mensagem_aumentada = list(dados_bits + '0' * r)\n",
        "\n",
        "    # 3. Implemente o loop de divisão.\n",
        "    #    Percorra os bit original da mensagem (em uma janela), da esquerda para a direita.\n",
        "    for i in range(len(dados_bits)):\n",
        "        # Se o bit mais significativo da 'janela' atual for '1', realize o XOR.\n",
        "        # - considere a janela atual como os próximos r+1 bits. (para pode dividir o por G(x))\n",
        "        if mensagem_aumentada[i] == '1':\n",
        "            janela_atual = \"\".join(mensagem_aumentada[i : i + len(gerador_bits)]) # inicio e fim devem calculados\n",
        "            resultado_xor = xor_bits(janela_atual, gerador_bits)\n",
        "\n",
        "            # Atualize a mensagem com o resultado do XOR.\n",
        "            # - Substitua os bits correspondentes na mensagem pela saída do XOR,\n",
        "#          ignorando o primeiro bit (que já foi processado).\n",
        "            for j in range(len(resultado_xor)):\n",
        "                mensagem_aumentada[i + j] = resultado_xor[j]\n",
        "\n",
        "    # 4. O resto da divisão são os 'r' bits finais da mensagem processada.\n",
        "    resto = \"\".join(mensagem_aumentada[-r:])\n",
        "    return resto"
      ]
    },
    {
      "cell_type": "markdown",
      "source": [
        "### **Testes**\n",
        "Para testar o código acima, compararemos os resultados com a página de número 48 do slide intitulado `RCNA_05`, disponível clicando [aqui](https://drive.google.com/file/d/1s4Ciqnwoyy5BcmEULP5gSBVnw71WblAk/view). Eis os resultados:"
      ],
      "metadata": {
        "id": "1RXc0O4TX3EZ"
      }
    },
    {
      "cell_type": "code",
      "source": [
        "# Exemplo de uso para validação\n",
        "dados_teste = \"1101011111\"  # M(x)\n",
        "gerador_teste = \"10011\"    # G(x)\n",
        "crc_calculado = calcular_crc_manual(dados_teste, gerador_teste)\n",
        "\n",
        "print(f\"Dados M(x): {dados_teste}\")\n",
        "print(f\"Gerador G(x): {gerador_teste}\")\n",
        "print(f\"CRC Calculado: {crc_calculado}\")\n",
        "# Quadro T(x) a ser transmitido: dados_teste + crc_calculado"
      ],
      "metadata": {
        "colab": {
          "base_uri": "https://localhost:8080/",
          "height": 0
        },
        "id": "PKSnEEokYWGC",
        "outputId": "3fe19109-b47f-4a81-f676-51437fe21aa2"
      },
      "execution_count": 14,
      "outputs": [
        {
          "output_type": "stream",
          "name": "stdout",
          "text": [
            "Dados M(x): 1101011111\n",
            "Gerador G(x): 10011\n",
            "CRC Calculado: 0010\n"
          ]
        }
      ]
    }
  ]
}